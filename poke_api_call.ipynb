{
 "cells": [
  {
   "cell_type": "markdown",
   "id": "867221e5",
   "metadata": {},
   "source": [
    "# create a function that does the following: "
   ]
  },
  {
   "cell_type": "markdown",
   "id": "d31c2ef2",
   "metadata": {},
   "source": [
    "\n",
    "<p>\n",
    "asks a user to input a pokemon name<br />\n",
    "requests the poke api for that pokemons information <br />\n",
    "creates the data structure(dictionary) from above with the pokemons information <br />\n",
    "<ul>\n",
    "    <li>in addition to the above keys, include the height and the \"front_default sprite\" </li>\n",
    "</ul>\n",
    "returns the dictionary.\n"
   ]
  },
  {
   "cell_type": "code",
   "execution_count": 1,
   "id": "2275b46e",
   "metadata": {
    "scrolled": true
   },
   "outputs": [],
   "source": [
    "import requests\n",
    "import re\n",
    "from IPython.display import Image\n",
    "\n",
    "# display(Image( 'https://i.redd.it/45n4mhusa8l41.jpg', width = 300))"
   ]
  },
  {
   "cell_type": "code",
   "execution_count": 2,
   "id": "9537658a",
   "metadata": {},
   "outputs": [],
   "source": [
    "def poke_api_call(pokemon):\n",
    "    \n",
    "# prompt for user input\n",
    "    pName = input(\"enter pokemon's name: \")\n",
    "    response = requests.get(f'https://pokeapi.co/api/v2/pokemon/{pName}')\n",
    "    pokeA = []\n",
    "#     image = ('https://raw.githubusercontent.com/PokeAPI/sprites/master/sprites/pokemon/21.png' ,width = 300))\n",
    "    \n",
    "    if response.status_code == 200:\n",
    "        print('success')\n",
    "        data = response.json()\n",
    "    else:\n",
    "        print(f'error,status code {response.status_code}')\n",
    "        print('check spelling')\n",
    "        \n",
    "\n",
    "    \n",
    "        \n",
    "# declare the data that I want to include.      \n",
    "    name = data['name']\n",
    "    types = data['types'][0]['type']['name']\n",
    "    weight= data['weight']\n",
    "    abilities = data['abilities']\n",
    "    height = data['height']\n",
    "    front = data['sprites']['front_default']\n",
    "    \n",
    "    poke_image = 'https://raw.githubusercontent.com/PokeAPI/sprites/master/sprites/pokemon/25.png'\n",
    "    \n",
    "#     display(Image('https://raw.githubusercontent.com/PokeAPI/sprites/master/sprites/pokemon/25.png' , width = 300))\n",
    "\n",
    "#create for loop for ablities becuase there are two items.    \n",
    "    for item in data['abilities']:\n",
    "        pokeA.append(item['ability']['name'])\n",
    "\n",
    "#list comprehension version would like like this \n",
    "\n",
    "    pokeB = [item['ability']['name'] for item in data['abilities']]\n",
    "        \n",
    "\n",
    "\n",
    "        \n",
    "        \n",
    "#join list convert to string    \n",
    "    pAble = ' , '.join(pokeA)\n",
    "    pAble2 = ' , '.join(pokeB) \n",
    "    \n",
    "        \n",
    "    pokemon = {\n",
    "        'name':name,\n",
    "        'types' : types,\n",
    "        'weight' : weight,\n",
    "        'ability' : pAble,\n",
    "        'height' : height,\n",
    "        'front' : poke_image\n",
    "        \n",
    "#         'ability':pAble2\n",
    "    }\n",
    "    \n",
    "#     print(pokemon)\n",
    "    \n",
    "    print(f\"{pName} is the {types} type\")\n",
    "    print(f\"{pName}'s abilites are {pAble}\")\n",
    "    print(f\"{pName}'s height is {height}\")\n",
    "    print(f\"{pName}'s weight is {weight}\")\n",
    "    display(Image( poke_image, width = 300))\n",
    "\n",
    "\n",
    "  \n",
    "    \n",
    "\n",
    "    \n",
    "    \n",
    "        \n",
    "    "
   ]
  },
  {
   "cell_type": "code",
   "execution_count": 3,
   "id": "fc0a50b9",
   "metadata": {
    "scrolled": true
   },
   "outputs": [
    {
     "name": "stdout",
     "output_type": "stream",
     "text": [
      "enter pokemon's name: pikachu\n",
      "success\n",
      "pikachu is the electric type\n",
      "pikachu's abilites are static , lightning-rod\n",
      "pikachu's height is 4\n",
      "pikachu's weight is 60\n"
     ]
    },
    {
     "data": {
      "image/png": "[encoded data removed]",
      "text/plain": [
       "<IPython.core.display.Image object>"
      ]
     },
     "metadata": {
      "image/png": {
       "width": 300
      }
     },
     "output_type": "display_data"
    }
   ],
   "source": [
    " poke_api_call('pokemon')"
   ]
  }
 ],
 "metadata": {
  "kernelspec": {
   "display_name": "Python 3 (ipykernel)",
   "language": "python",
   "name": "python3"
  },
  "language_info": {
   "codemirror_mode": {
    "name": "ipython",
    "version": 3
   },
   "file_extension": ".py",
   "mimetype": "text/x-python",
   "name": "python",
   "nbconvert_exporter": "python",
   "pygments_lexer": "ipython3",
   "version": "3.9.12"
  }
 },
 "nbformat": 4,
 "nbformat_minor": 5
}
