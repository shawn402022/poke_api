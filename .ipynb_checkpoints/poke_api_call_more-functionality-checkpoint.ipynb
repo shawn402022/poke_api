{
 "cells": [
  {
   "cell_type": "markdown",
   "id": "5614c722",
   "metadata": {},
   "source": [
    "# create a function that does the following:"
   ]
  },
  {
   "cell_type": "markdown",
   "id": "f4b0e8d5",
   "metadata": {},
   "source": [
    "<p>\n",
    "asks a user to input a pokemon name<br />\n",
    "requests the poke api for that pokemons information <br />\n",
    "creates the data structure(dictionary) from above with the pokemons information <br />\n",
    "<ul>\n",
    "    <li>in addition to the above keys, include the height and the \"front_default sprite\" </li>\n",
    "</ul>\n",
    "returns the dictionary.\n"
   ]
  },
  {
   "cell_type": "code",
   "execution_count": 6,
   "id": "9da71aa4",
   "metadata": {},
   "outputs": [],
   "source": [
    "import requests\n",
    "import re"
   ]
  },
  {
   "cell_type": "code",
   "execution_count": 9,
   "id": "0eba592e",
   "metadata": {},
   "outputs": [],
   "source": [
    "def poke_api_call(pokemon=None):\n",
    "    if not pokemon:\n",
    "        pokemon = input(\"enter pokemon's name: \")\n",
    "        \n",
    "    response = requests.get(f'https://pokeapi.co/api/v2/pokemon/{pokemon}')\n",
    "    pokeA = []\n",
    "    \n",
    "    if response.status_code == 200:\n",
    "        print('success')\n",
    "        data = response.json()\n",
    "    else:\n",
    "        print(f'error,status code {response.status_code}')\n",
    "        print('check spelling')\n",
    "        \n",
    "\n",
    "    \n",
    "        \n",
    "# declare the data that I want to include.      \n",
    "    name = data['name']\n",
    "    types = data['types'][0]['type']['name']\n",
    "    weight= data['weight']\n",
    "    abilities = data['abilities']\n",
    "    height = data['height']\n",
    "    front = data['sprites']['front_default']\n",
    "\n",
    "#create for loop for ablities becuase there are two items.    \n",
    "    for item in data['abilities']:\n",
    "        pokeA.append(item['ability']['name'])\n",
    "\n",
    "#list comprehension version would like like this \n",
    "\n",
    "    pokeB = [item['ability']['name'] for item in data['abilities']]\n",
    "        \n",
    "\n",
    "\n",
    "        \n",
    "        \n",
    "#join list convert to string    \n",
    "    pAble = ' , '.join(pokeA)\n",
    "    pAble2 = ' , '.join(pokeB) \n",
    "    \n",
    "        \n",
    "    pokemon_dict = {\n",
    "        'name':name,\n",
    "        'types' : types,\n",
    "        'weight' : weight,\n",
    "        'ability' : pAble,\n",
    "        'height' : height,\n",
    "        'front' : front,\n",
    "        'ability':pAble2\n",
    "    }\n",
    "    \n",
    "    return pokemon_dict\n",
    "\n",
    "#     print(f'these are the {types}')\n",
    "#     print(pokeA)\n",
    "#     print(pAble)\n",
    "    \n",
    "    "
   ]
  },
  {
   "cell_type": "code",
   "execution_count": 11,
   "id": "ff115cf5",
   "metadata": {},
   "outputs": [
    {
     "name": "stdout",
     "output_type": "stream",
     "text": [
      "success\n"
     ]
    },
    {
     "data": {
      "text/plain": [
       "{'name': 'pikachu',\n",
       " 'types': 'electric',\n",
       " 'weight': 60,\n",
       " 'ability': 'static , lightning-rod',\n",
       " 'height': 4,\n",
       " 'front': 'https://raw.githubusercontent.com/PokeAPI/sprites/master/sprites/pokemon/25.png'}"
      ]
     },
     "execution_count": 11,
     "metadata": {},
     "output_type": "execute_result"
    }
   ],
   "source": [
    " poke_api_call('pikachu')"
   ]
  },
  {
   "cell_type": "code",
   "execution_count": null,
   "id": "dd9b979d",
   "metadata": {},
   "outputs": [],
   "source": []
  }
 ],
 "metadata": {
  "kernelspec": {
   "display_name": "Python 3 (ipykernel)",
   "language": "python",
   "name": "python3"
  },
  "language_info": {
   "codemirror_mode": {
    "name": "ipython",
    "version": 3
   },
   "file_extension": ".py",
   "mimetype": "text/x-python",
   "name": "python",
   "nbconvert_exporter": "python",
   "pygments_lexer": "ipython3",
   "version": "3.9.12"
  }
 },
 "nbformat": 4,
 "nbformat_minor": 5
}
